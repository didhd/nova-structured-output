{
 "cells": [
  {
   "cell_type": "markdown",
   "metadata": {},
   "source": [
    "# Testing Three Structured Output Methods with Amazon Nova Models\n",
    "\n",
    "This notebook demonstrates three different approaches to get structured JSON output from Amazon Nova models:\n",
    "1. **Output Schema Method**: Providing explicit schema instructions\n",
    "2. **Prefilling Method**: Using assistant content prefilling to guide output format\n",
    "3. **Tool Use Method**: Using toolChoice to enforce structured output\n",
    "\n",
    "We'll test each method on Nova Pro, Lite, and Micro models with 10 iterations each."
   ]
  },
  {
   "cell_type": "code",
   "execution_count": null,
   "metadata": {},
   "outputs": [],
   "source": [
    "%pip install ipywidgets pandas numpy matplotlib tqdm boto3"
   ]
  },
  {
   "cell_type": "code",
   "execution_count": 68,
   "metadata": {},
   "outputs": [],
   "source": [
    "# Import necessary libraries\n",
    "import boto3\n",
    "import json\n",
    "import time\n",
    "import pandas as pd\n",
    "import matplotlib.pyplot as plt\n",
    "from tqdm.notebook import tqdm\n",
    "import numpy as np"
   ]
  },
  {
   "cell_type": "code",
   "execution_count": 69,
   "metadata": {},
   "outputs": [],
   "source": [
    "# Create Bedrock runtime client\n",
    "bedrock_runtime = boto3.client(\n",
    "    service_name='bedrock-runtime',\n",
    "    region_name='us-west-2'  # Change to your preferred region\n",
    ")"
   ]
  },
  {
   "cell_type": "markdown",
   "metadata": {},
   "source": [
    "## Define Nova Models to Test"
   ]
  },
  {
   "cell_type": "code",
   "execution_count": 70,
   "metadata": {},
   "outputs": [],
   "source": [
    "# Define the Nova models to test\n",
    "nova_models = {\n",
    "    \"Pro\": \"us.amazon.nova-pro-v1:0\",\n",
    "    \"Lite\": \"us.amazon.nova-lite-v1:0\",\n",
    "    \"Micro\": \"us.amazon.nova-micro-v1:0\"\n",
    "}\n",
    "\n",
    "# Number of test iterations per method per model\n",
    "iterations = 10\n",
    "\n",
    "# Test prompt for questionnaire agent\n",
    "base_prompt = \"Ask the user for the name of their healthcare practice and provide a friendly response\""
   ]
  },
  {
   "cell_type": "markdown",
   "metadata": {},
   "source": [
    "## Method 1: Output Schema Approach"
   ]
  },
  {
   "cell_type": "code",
   "execution_count": 71,
   "metadata": {},
   "outputs": [],
   "source": [
    "def test_output_schema_method(model_id, prompt):\n",
    "    \"\"\"Test using explicit output schema instructions\"\"\"\n",
    "    start_time = time.time()\n",
    "    \n",
    "    schema_prompt = f\"\"\"{prompt}\n",
    "    \n",
    "You MUST answer in JSON format only. Please follow the output schema below:\n",
    "\n",
    "Output Schema:\n",
    "{{\n",
    "    \"questionText\": \"The question to ask the user\",\n",
    "    \"questionType\": \"text|number|multipleChoice|date\",\n",
    "    \"friendlyResponse\": \"A friendly message to accompany the question\",\n",
    "    \"nextQuestionId\": \"optional next question identifier\"\n",
    "}}\"\"\"\n",
    "    \n",
    "    request_body = {\n",
    "        \"messages\": [\n",
    "            {\n",
    "                \"role\": \"user\",\n",
    "                \"content\": [{\"text\": schema_prompt}]\n",
    "            }\n",
    "        ],\n",
    "        \"inferenceConfig\": {\n",
    "            \"maxTokens\": 1000,\n",
    "            \"temperature\": 0,\n",
    "            \"topP\": 1,\n",
    "            \"topK\": 1\n",
    "        }\n",
    "    }\n",
    "    \n",
    "    try:\n",
    "        response = bedrock_runtime.invoke_model(\n",
    "            modelId=model_id,\n",
    "            body=json.dumps(request_body)\n",
    "        )\n",
    "        \n",
    "        response_body = json.loads(response[\"body\"].read().decode(\"utf-8\"))\n",
    "        \n",
    "        # Extract the text content\n",
    "        content = response_body[\"output\"][\"message\"][\"content\"][0][\"text\"]\n",
    "        \n",
    "        # Try to parse as JSON\n",
    "        try:\n",
    "            json_output = json.loads(content)\n",
    "            is_valid_json = True\n",
    "        except:\n",
    "            # Try to extract JSON from text if it's wrapped\n",
    "            import re\n",
    "            json_match = re.search(r'\\{.*\\}', content, re.DOTALL)\n",
    "            if json_match:\n",
    "                try:\n",
    "                    json_output = json.loads(json_match.group())\n",
    "                    is_valid_json = True\n",
    "                except:\n",
    "                    json_output = None\n",
    "                    is_valid_json = False\n",
    "            else:\n",
    "                json_output = None\n",
    "                is_valid_json = False\n",
    "        \n",
    "        return {\n",
    "            \"success\": True,\n",
    "            \"is_valid_json\": is_valid_json,\n",
    "            \"json_output\": json_output,\n",
    "            \"raw_content\": content,\n",
    "            \"duration\": time.time() - start_time\n",
    "        }\n",
    "    except Exception as e:\n",
    "        return {\n",
    "            \"success\": False,\n",
    "            \"error\": str(e),\n",
    "            \"duration\": time.time() - start_time\n",
    "        }"
   ]
  },
  {
   "cell_type": "markdown",
   "metadata": {},
   "source": [
    "## Method 2: Prefilling Approach"
   ]
  },
  {
   "cell_type": "code",
   "execution_count": 72,
   "metadata": {},
   "outputs": [],
   "source": [
    "def test_prefilling_method(model_id, prompt):\n",
    "    \"\"\"Test using assistant content prefilling\"\"\"\n",
    "    start_time = time.time()\n",
    "    \n",
    "    prefill_prompt = f\"\"\"{prompt}\n",
    "    \n",
    "Your response should be in JSON format with the following keys: questionText, questionType, friendlyResponse, nextQuestionId.\"\"\"\n",
    "    \n",
    "    request_body = {\n",
    "        \"messages\": [\n",
    "            {\n",
    "                \"role\": \"user\",\n",
    "                \"content\": [{\"text\": prefill_prompt}]\n",
    "            },\n",
    "            {\n",
    "                \"role\": \"assistant\",\n",
    "                \"content\": [{\"text\": \"Here is the JSON response: ```json\\n{\"}]\n",
    "            }\n",
    "        ],\n",
    "        \"inferenceConfig\": {\n",
    "            \"maxTokens\": 1000,\n",
    "            \"temperature\": 0,\n",
    "            \"topP\": 1,\n",
    "            \"topK\": 1,\n",
    "            \"stopSequences\": [\"```\"]\n",
    "        }\n",
    "    }\n",
    "    \n",
    "    try:\n",
    "        response = bedrock_runtime.invoke_model(\n",
    "            modelId=model_id,\n",
    "            body=json.dumps(request_body)\n",
    "        )\n",
    "        \n",
    "        response_body = json.loads(response[\"body\"].read().decode(\"utf-8\"))\n",
    "        \n",
    "        # Extract the text content and prepend the opening brace\n",
    "        raw_content = \"{\" + response_body[\"output\"][\"message\"][\"content\"][0][\"text\"]\n",
    "        \n",
    "        # Clean up the content - remove trailing ``` and whitespace\n",
    "        content = raw_content.strip()\n",
    "        if content.endswith(\"```\"):\n",
    "            content = content[:-3].strip()\n",
    "        \n",
    "        # Try to parse as JSON\n",
    "        try:\n",
    "            json_output = json.loads(content)\n",
    "            is_valid_json = True\n",
    "        except:\n",
    "            json_output = None\n",
    "            is_valid_json = False\n",
    "        \n",
    "        return {\n",
    "            \"success\": True,\n",
    "            \"is_valid_json\": is_valid_json,\n",
    "            \"json_output\": json_output,\n",
    "            \"raw_content\": raw_content,  # Keep original for debugging\n",
    "            \"duration\": time.time() - start_time\n",
    "        }\n",
    "    except Exception as e:\n",
    "        return {\n",
    "            \"success\": False,\n",
    "            \"error\": str(e),\n",
    "            \"duration\": time.time() - start_time\n",
    "        }"
   ]
  },
  {
   "cell_type": "markdown",
   "metadata": {},
   "source": [
    "## Method 3: Tool Use Approach"
   ]
  },
  {
   "cell_type": "code",
   "execution_count": 73,
   "metadata": {},
   "outputs": [],
   "source": [
    "def test_tool_use_method(model_id, prompt):\n",
    "    \"\"\"Test using tool choice to enforce structured output with Converse API\"\"\"\n",
    "    start_time = time.time()\n",
    "    \n",
    "    tool_config = {\n",
    "        \"tools\": [\n",
    "            {\n",
    "                \"toolSpec\": {\n",
    "                    \"name\": \"format_question\",\n",
    "                    \"description\": \"Format a question for display in the UI\",\n",
    "                    \"inputSchema\": {\n",
    "                        \"json\": {\n",
    "                            \"type\": \"object\",\n",
    "                            \"properties\": {\n",
    "                                \"questionText\": {\n",
    "                                    \"type\": \"string\",\n",
    "                                    \"description\": \"The text of the question to ask the user\"\n",
    "                                },\n",
    "                                \"questionType\": {\n",
    "                                    \"type\": \"string\",\n",
    "                                    \"description\": \"The type of question: text, number, multipleChoice, or date\"\n",
    "                                },\n",
    "                                \"friendlyResponse\": {\n",
    "                                    \"type\": \"string\",\n",
    "                                    \"description\": \"A friendly response to accompany the question\"\n",
    "                                },\n",
    "                                \"nextQuestionId\": {\n",
    "                                    \"type\": \"string\",\n",
    "                                    \"description\": \"Identifier for the next question\"\n",
    "                                }\n",
    "                            },\n",
    "                            \"required\": [\"questionText\", \"questionType\", \"friendlyResponse\", \"nextQuestionId\"]\n",
    "                        }\n",
    "                    }\n",
    "                }\n",
    "            }\n",
    "        ]\n",
    "    }\n",
    "    \n",
    "    messages = [\n",
    "        {\n",
    "            \"role\": \"user\",\n",
    "            \"content\": [{\"text\": f\"Please use the format_question tool to format this question for our survey system: {prompt}\"}]\n",
    "        }\n",
    "    ]\n",
    "    \n",
    "    inf_params = {\n",
    "        \"maxTokens\": 1000, \n",
    "        \"topP\": 1, \n",
    "        \"temperature\": 0  # Using 0 for consistent output instead of 1\n",
    "    }\n",
    "    \n",
    "    try:\n",
    "        response = bedrock_runtime.converse(\n",
    "            modelId=model_id,\n",
    "            messages=messages,\n",
    "            toolConfig=tool_config,\n",
    "            inferenceConfig=inf_params,\n",
    "            additionalModelRequestFields={\"inferenceConfig\": {\"topK\": 1}}\n",
    "        )\n",
    "        \n",
    "        # Check if we have a tool call in the response\n",
    "        tool_call = None\n",
    "        if \"output\" in response and \"message\" in response[\"output\"]:\n",
    "            content = response[\"output\"][\"message\"][\"content\"]\n",
    "            for item in content:\n",
    "                if \"toolUse\" in item:\n",
    "                    tool_call = item[\"toolUse\"]\n",
    "                    break\n",
    "        \n",
    "        return {\n",
    "            \"success\": True,\n",
    "            \"has_tool_call\": tool_call is not None,\n",
    "            \"tool_call\": tool_call,\n",
    "            \"json_output\": tool_call[\"input\"] if tool_call else None,\n",
    "            \"raw_response\": response,\n",
    "            \"duration\": time.time() - start_time\n",
    "        }\n",
    "    except Exception as e:\n",
    "        return {\n",
    "            \"success\": False,\n",
    "            \"error\": str(e),\n",
    "            \"duration\": time.time() - start_time\n",
    "        }"
   ]
  },
  {
   "cell_type": "markdown",
   "metadata": {},
   "source": [
    "## Run Tests for All Methods and Models"
   ]
  },
  {
   "cell_type": "code",
   "execution_count": 74,
   "metadata": {},
   "outputs": [
    {
     "name": "stdout",
     "output_type": "stream",
     "text": [
      "Testing Pro model...\n",
      "  Testing Output Schema method... (delay: 20s per request)\n"
     ]
    },
    {
     "data": {
      "application/vnd.jupyter.widget-view+json": {
       "model_id": "cdb9131ab7ae47abbd7632b0ae568068",
       "version_major": 2,
       "version_minor": 0
      },
      "text/plain": [
       "Pro-Output Schema:   0%|          | 0/10 [00:00<?, ?it/s]"
      ]
     },
     "metadata": {},
     "output_type": "display_data"
    },
    {
     "name": "stdout",
     "output_type": "stream",
     "text": [
      "  Testing Prefilling method... (delay: 20s per request)\n"
     ]
    },
    {
     "data": {
      "application/vnd.jupyter.widget-view+json": {
       "model_id": "467fe96977bf4054ad8a099d2f89ec87",
       "version_major": 2,
       "version_minor": 0
      },
      "text/plain": [
       "Pro-Prefilling:   0%|          | 0/10 [00:00<?, ?it/s]"
      ]
     },
     "metadata": {},
     "output_type": "display_data"
    },
    {
     "name": "stdout",
     "output_type": "stream",
     "text": [
      "  Testing Tool Use method... (delay: 20s per request)\n"
     ]
    },
    {
     "data": {
      "application/vnd.jupyter.widget-view+json": {
       "model_id": "a1a22e7980a948f7926de26efd441fbb",
       "version_major": 2,
       "version_minor": 0
      },
      "text/plain": [
       "Pro-Tool Use:   0%|          | 0/10 [00:00<?, ?it/s]"
      ]
     },
     "metadata": {},
     "output_type": "display_data"
    },
    {
     "name": "stdout",
     "output_type": "stream",
     "text": [
      "Testing Lite model...\n",
      "  Testing Output Schema method... (delay: 0.5s per request)\n"
     ]
    },
    {
     "data": {
      "application/vnd.jupyter.widget-view+json": {
       "model_id": "f5ac2500f5c64d149213a7916ce6cdda",
       "version_major": 2,
       "version_minor": 0
      },
      "text/plain": [
       "Lite-Output Schema:   0%|          | 0/10 [00:00<?, ?it/s]"
      ]
     },
     "metadata": {},
     "output_type": "display_data"
    },
    {
     "name": "stdout",
     "output_type": "stream",
     "text": [
      "  Testing Prefilling method... (delay: 0.5s per request)\n"
     ]
    },
    {
     "data": {
      "application/vnd.jupyter.widget-view+json": {
       "model_id": "4e1e44267c5a449c9f8a321e966a95d5",
       "version_major": 2,
       "version_minor": 0
      },
      "text/plain": [
       "Lite-Prefilling:   0%|          | 0/10 [00:00<?, ?it/s]"
      ]
     },
     "metadata": {},
     "output_type": "display_data"
    },
    {
     "name": "stdout",
     "output_type": "stream",
     "text": [
      "  Testing Tool Use method... (delay: 0.5s per request)\n"
     ]
    },
    {
     "data": {
      "application/vnd.jupyter.widget-view+json": {
       "model_id": "028bdb6b4aef42ada77bb78c8c6d0d2b",
       "version_major": 2,
       "version_minor": 0
      },
      "text/plain": [
       "Lite-Tool Use:   0%|          | 0/10 [00:00<?, ?it/s]"
      ]
     },
     "metadata": {},
     "output_type": "display_data"
    },
    {
     "name": "stdout",
     "output_type": "stream",
     "text": [
      "Testing Micro model...\n",
      "  Testing Output Schema method... (delay: 0.5s per request)\n"
     ]
    },
    {
     "data": {
      "application/vnd.jupyter.widget-view+json": {
       "model_id": "3ea337584f77401786522eb98db68e55",
       "version_major": 2,
       "version_minor": 0
      },
      "text/plain": [
       "Micro-Output Schema:   0%|          | 0/10 [00:00<?, ?it/s]"
      ]
     },
     "metadata": {},
     "output_type": "display_data"
    },
    {
     "name": "stdout",
     "output_type": "stream",
     "text": [
      "  Testing Prefilling method... (delay: 0.5s per request)\n"
     ]
    },
    {
     "data": {
      "application/vnd.jupyter.widget-view+json": {
       "model_id": "c732adbe3e214e53963b139d4704e97f",
       "version_major": 2,
       "version_minor": 0
      },
      "text/plain": [
       "Micro-Prefilling:   0%|          | 0/10 [00:00<?, ?it/s]"
      ]
     },
     "metadata": {},
     "output_type": "display_data"
    },
    {
     "name": "stdout",
     "output_type": "stream",
     "text": [
      "  Testing Tool Use method... (delay: 0.5s per request)\n"
     ]
    },
    {
     "data": {
      "application/vnd.jupyter.widget-view+json": {
       "model_id": "5aebc2b08da04daebdcc96bd9529066f",
       "version_major": 2,
       "version_minor": 0
      },
      "text/plain": [
       "Micro-Tool Use:   0%|          | 0/10 [00:00<?, ?it/s]"
      ]
     },
     "metadata": {},
     "output_type": "display_data"
    },
    {
     "name": "stdout",
     "output_type": "stream",
     "text": [
      "\n",
      "Testing completed! Total results: 90\n",
      "Results saved to: nova_structured_output_results.json\n",
      "\n",
      "Quick Summary:\n",
      "Overall Success Rate: 100.0%\n",
      "Overall Structured Output Rate: 100.0%\n",
      "Average Duration: 0.87s\n"
     ]
    }
   ],
   "source": [
    "# Define the test methods\n",
    "test_methods = {\n",
    "    \"Output Schema\": test_output_schema_method,\n",
    "    \"Prefilling\": test_prefilling_method,\n",
    "    \"Tool Use\": test_tool_use_method\n",
    "}\n",
    "\n",
    "results = []\n",
    "\n",
    "for model_name, model_id in nova_models.items():\n",
    "    print(f\"Testing {model_name} model...\")\n",
    "    \n",
    "    # Only apply longer delay for Pro model due to throttling\n",
    "    delay = 20 if model_name == \"Pro\" else 0.5\n",
    "    \n",
    "    for method_name, test_function in test_methods.items():\n",
    "        print(f\"  Testing {method_name} method... (delay: {delay}s per request)\")\n",
    "        \n",
    "        for i in tqdm(range(iterations), desc=f\"{model_name}-{method_name}\"):\n",
    "            # Call the test method\n",
    "            response = test_function(model_id, base_prompt)\n",
    "            \n",
    "            # Extract key outputs for JSON storage\n",
    "            key_output = None\n",
    "            if method_name == \"Tool Use\":\n",
    "                if response.get(\"tool_call\") and \"input\" in response[\"tool_call\"]:\n",
    "                    key_output = response[\"tool_call\"][\"input\"]\n",
    "            else:\n",
    "                key_output = response.get(\"json_output\")\n",
    "            \n",
    "            # Record result\n",
    "            result_entry = {\n",
    "                \"model\": model_name,\n",
    "                \"method\": method_name,\n",
    "                \"iteration\": i + 1,\n",
    "                \"success\": response[\"success\"],\n",
    "                \"is_structured\": (\n",
    "                    response.get(\"is_valid_json\", False) if method_name != \"Tool Use\" \n",
    "                    else response.get(\"has_tool_call\", False)\n",
    "                ),\n",
    "                \"duration\": response[\"duration\"],\n",
    "                \"key_output\": key_output,\n",
    "                \"timestamp\": time.strftime(\"%Y-%m-%d %H:%M:%S\"),\n",
    "                \"response\": response\n",
    "            }\n",
    "            \n",
    "            results.append(result_entry)\n",
    "            \n",
    "            # Save results incrementally to JSON file (with debug info)\n",
    "            json_results = []\n",
    "            for r in results:\n",
    "                json_entry = {\n",
    "                    \"model\": r[\"model\"],\n",
    "                    \"method\": r[\"method\"], \n",
    "                    \"iteration\": r[\"iteration\"],\n",
    "                    \"success\": r[\"success\"],\n",
    "                    \"is_structured\": r[\"is_structured\"],\n",
    "                    \"duration\": round(r[\"duration\"], 3),\n",
    "                    \"key_output\": r[\"key_output\"],\n",
    "                    \"timestamp\": r[\"timestamp\"]\n",
    "                }\n",
    "                \n",
    "                # Add debug information based on success/failure\n",
    "                if not r[\"success\"]:\n",
    "                    # Add error information for failed requests\n",
    "                    json_entry[\"error\"] = r[\"response\"].get(\"error\", \"Unknown error\")\n",
    "                else:\n",
    "                    # Add debug info for successful but non-structured responses\n",
    "                    if not r[\"is_structured\"]:\n",
    "                        if r[\"method\"] == \"Tool Use\":\n",
    "                            # For tool use, save the raw response to debug\n",
    "                            json_entry[\"debug_raw_response\"] = r[\"response\"].get(\"raw_response\")\n",
    "                            json_entry[\"debug_tool_call\"] = r[\"response\"].get(\"tool_call\")\n",
    "                        else:\n",
    "                            # For prefilling/schema, save the raw content\n",
    "                            json_entry[\"debug_raw_content\"] = r[\"response\"].get(\"raw_content\")\n",
    "                            json_entry[\"debug_json_parse_failed\"] = True\n",
    "                \n",
    "                json_results.append(json_entry)\n",
    "            \n",
    "            # Save to JSON file after each test\n",
    "            with open('nova_structured_output_results.json', 'w') as f:\n",
    "                json.dump(json_results, f, indent=2)\n",
    "            \n",
    "            # Apply delay (20s for Pro, 2s for others)\n",
    "            time.sleep(delay)\n",
    "\n",
    "print(f\"\\nTesting completed! Total results: {len(results)}\")\n",
    "print(\"Results saved to: nova_structured_output_results.json\")\n",
    "\n",
    "# Display quick summary\n",
    "if results:\n",
    "    success_rate = sum(1 for r in results if r[\"success\"]) / len(results) * 100\n",
    "    structured_rate = sum(1 for r in results if r[\"is_structured\"]) / len(results) * 100\n",
    "    avg_duration = sum(r[\"duration\"] for r in results) / len(results)\n",
    "    \n",
    "    print(f\"\\nQuick Summary:\")\n",
    "    print(f\"Overall Success Rate: {success_rate:.1f}%\")\n",
    "    print(f\"Overall Structured Output Rate: {structured_rate:.1f}%\") \n",
    "    print(f\"Average Duration: {avg_duration:.2f}s\")\n",
    "    \n",
    "    # Show error summary\n",
    "    failed_results = [r for r in results if not r[\"success\"]]\n",
    "    if failed_results:\n",
    "        print(f\"\\nFailed requests: {len(failed_results)}\")\n",
    "        for r in failed_results[:3]:  # Show first 3 errors\n",
    "            print(f\"  {r['model']} - {r['method']}: {r['response'].get('error', 'Unknown error')}\")"
   ]
  },
  {
   "cell_type": "markdown",
   "metadata": {},
   "source": [
    "## Analyze Results"
   ]
  },
  {
   "cell_type": "code",
   "execution_count": 75,
   "metadata": {},
   "outputs": [
    {
     "name": "stdout",
     "output_type": "stream",
     "text": [
      "Test Summary by Model and Method:\n"
     ]
    },
    {
     "data": {
      "text/html": [
       "<div>\n",
       "<style scoped>\n",
       "    .dataframe tbody tr th:only-of-type {\n",
       "        vertical-align: middle;\n",
       "    }\n",
       "\n",
       "    .dataframe tbody tr th {\n",
       "        vertical-align: top;\n",
       "    }\n",
       "\n",
       "    .dataframe thead th {\n",
       "        text-align: right;\n",
       "    }\n",
       "</style>\n",
       "<table border=\"1\" class=\"dataframe\">\n",
       "  <thead>\n",
       "    <tr style=\"text-align: right;\">\n",
       "      <th></th>\n",
       "      <th>Model</th>\n",
       "      <th>Method</th>\n",
       "      <th>Success Rate (%)</th>\n",
       "      <th>Structured Output Rate (%)</th>\n",
       "      <th>Avg Duration (sec)</th>\n",
       "    </tr>\n",
       "  </thead>\n",
       "  <tbody>\n",
       "    <tr>\n",
       "      <th>0</th>\n",
       "      <td>Lite</td>\n",
       "      <td>Output Schema</td>\n",
       "      <td>100.0</td>\n",
       "      <td>100.0</td>\n",
       "      <td>0.651758</td>\n",
       "    </tr>\n",
       "    <tr>\n",
       "      <th>1</th>\n",
       "      <td>Lite</td>\n",
       "      <td>Prefilling</td>\n",
       "      <td>100.0</td>\n",
       "      <td>100.0</td>\n",
       "      <td>0.725771</td>\n",
       "    </tr>\n",
       "    <tr>\n",
       "      <th>2</th>\n",
       "      <td>Lite</td>\n",
       "      <td>Tool Use</td>\n",
       "      <td>100.0</td>\n",
       "      <td>100.0</td>\n",
       "      <td>1.243857</td>\n",
       "    </tr>\n",
       "    <tr>\n",
       "      <th>3</th>\n",
       "      <td>Micro</td>\n",
       "      <td>Output Schema</td>\n",
       "      <td>100.0</td>\n",
       "      <td>100.0</td>\n",
       "      <td>0.412199</td>\n",
       "    </tr>\n",
       "    <tr>\n",
       "      <th>4</th>\n",
       "      <td>Micro</td>\n",
       "      <td>Prefilling</td>\n",
       "      <td>100.0</td>\n",
       "      <td>100.0</td>\n",
       "      <td>0.444585</td>\n",
       "    </tr>\n",
       "    <tr>\n",
       "      <th>5</th>\n",
       "      <td>Micro</td>\n",
       "      <td>Tool Use</td>\n",
       "      <td>100.0</td>\n",
       "      <td>100.0</td>\n",
       "      <td>1.184886</td>\n",
       "    </tr>\n",
       "    <tr>\n",
       "      <th>6</th>\n",
       "      <td>Pro</td>\n",
       "      <td>Output Schema</td>\n",
       "      <td>100.0</td>\n",
       "      <td>100.0</td>\n",
       "      <td>0.697015</td>\n",
       "    </tr>\n",
       "    <tr>\n",
       "      <th>7</th>\n",
       "      <td>Pro</td>\n",
       "      <td>Prefilling</td>\n",
       "      <td>100.0</td>\n",
       "      <td>100.0</td>\n",
       "      <td>0.712981</td>\n",
       "    </tr>\n",
       "    <tr>\n",
       "      <th>8</th>\n",
       "      <td>Pro</td>\n",
       "      <td>Tool Use</td>\n",
       "      <td>100.0</td>\n",
       "      <td>100.0</td>\n",
       "      <td>1.719727</td>\n",
       "    </tr>\n",
       "  </tbody>\n",
       "</table>\n",
       "</div>"
      ],
      "text/plain": [
       "   Model         Method  Success Rate (%)  Structured Output Rate (%)  \\\n",
       "0   Lite  Output Schema             100.0                       100.0   \n",
       "1   Lite     Prefilling             100.0                       100.0   \n",
       "2   Lite       Tool Use             100.0                       100.0   \n",
       "3  Micro  Output Schema             100.0                       100.0   \n",
       "4  Micro     Prefilling             100.0                       100.0   \n",
       "5  Micro       Tool Use             100.0                       100.0   \n",
       "6    Pro  Output Schema             100.0                       100.0   \n",
       "7    Pro     Prefilling             100.0                       100.0   \n",
       "8    Pro       Tool Use             100.0                       100.0   \n",
       "\n",
       "   Avg Duration (sec)  \n",
       "0            0.651758  \n",
       "1            0.725771  \n",
       "2            1.243857  \n",
       "3            0.412199  \n",
       "4            0.444585  \n",
       "5            1.184886  \n",
       "6            0.697015  \n",
       "7            0.712981  \n",
       "8            1.719727  "
      ]
     },
     "metadata": {},
     "output_type": "display_data"
    },
    {
     "name": "stdout",
     "output_type": "stream",
     "text": [
      "\n",
      "Structured Output Success Rate by Method:\n"
     ]
    },
    {
     "data": {
      "text/html": [
       "<div>\n",
       "<style scoped>\n",
       "    .dataframe tbody tr th:only-of-type {\n",
       "        vertical-align: middle;\n",
       "    }\n",
       "\n",
       "    .dataframe tbody tr th {\n",
       "        vertical-align: top;\n",
       "    }\n",
       "\n",
       "    .dataframe thead th {\n",
       "        text-align: right;\n",
       "    }\n",
       "</style>\n",
       "<table border=\"1\" class=\"dataframe\">\n",
       "  <thead>\n",
       "    <tr style=\"text-align: right;\">\n",
       "      <th>method</th>\n",
       "      <th>Output Schema</th>\n",
       "      <th>Prefilling</th>\n",
       "      <th>Tool Use</th>\n",
       "    </tr>\n",
       "    <tr>\n",
       "      <th>model</th>\n",
       "      <th></th>\n",
       "      <th></th>\n",
       "      <th></th>\n",
       "    </tr>\n",
       "  </thead>\n",
       "  <tbody>\n",
       "    <tr>\n",
       "      <th>Lite</th>\n",
       "      <td>100.0</td>\n",
       "      <td>100.0</td>\n",
       "      <td>100.0</td>\n",
       "    </tr>\n",
       "    <tr>\n",
       "      <th>Micro</th>\n",
       "      <td>100.0</td>\n",
       "      <td>100.0</td>\n",
       "      <td>100.0</td>\n",
       "    </tr>\n",
       "    <tr>\n",
       "      <th>Pro</th>\n",
       "      <td>100.0</td>\n",
       "      <td>100.0</td>\n",
       "      <td>100.0</td>\n",
       "    </tr>\n",
       "  </tbody>\n",
       "</table>\n",
       "</div>"
      ],
      "text/plain": [
       "method  Output Schema  Prefilling  Tool Use\n",
       "model                                      \n",
       "Lite            100.0       100.0     100.0\n",
       "Micro           100.0       100.0     100.0\n",
       "Pro             100.0       100.0     100.0"
      ]
     },
     "metadata": {},
     "output_type": "display_data"
    }
   ],
   "source": [
    "# Convert results to DataFrame for analysis\n",
    "results_df = pd.DataFrame([\n",
    "    {\n",
    "        \"model\": r[\"model\"],\n",
    "        \"method\": r[\"method\"],\n",
    "        \"iteration\": r[\"iteration\"],\n",
    "        \"success\": r[\"success\"],\n",
    "        \"is_structured\": r[\"is_structured\"],\n",
    "        \"duration\": r[\"duration\"]\n",
    "    } for r in results\n",
    "])\n",
    "\n",
    "# Display summary by model and method\n",
    "print(\"Test Summary by Model and Method:\")\n",
    "summary = results_df.groupby([\"model\", \"method\"]).agg({\n",
    "    \"success\": \"mean\",\n",
    "    \"is_structured\": \"mean\",\n",
    "    \"duration\": \"mean\"\n",
    "}).reset_index()\n",
    "\n",
    "# Format as percentages\n",
    "summary[\"success\"] = summary[\"success\"] * 100\n",
    "summary[\"is_structured\"] = summary[\"is_structured\"] * 100\n",
    "\n",
    "# Rename columns for clarity\n",
    "summary.columns = [\"Model\", \"Method\", \"Success Rate (%)\", \"Structured Output Rate (%)\", \"Avg Duration (sec)\"]\n",
    "display(summary)\n",
    "\n",
    "# Pivot table for better visualization\n",
    "print(\"\\nStructured Output Success Rate by Method:\")\n",
    "pivot_structured = results_df.pivot_table(\n",
    "    values='is_structured', \n",
    "    index='model', \n",
    "    columns='method', \n",
    "    aggfunc='mean'\n",
    ") * 100\n",
    "display(pivot_structured.round(1))"
   ]
  },
  {
   "cell_type": "markdown",
   "metadata": {},
   "source": [
    "## Visualize Results"
   ]
  },
  {
   "cell_type": "code",
   "execution_count": 76,
   "metadata": {},
   "outputs": [
    {
     "data": {
      "image/png": "[encoded data removed]",
      "text/plain": [
       "<Figure size 1500x1000 with 4 Axes>"
      ]
     },
     "metadata": {},
     "output_type": "display_data"
    }
   ],
   "source": [
    "# Plot structured output success rates\n",
    "plt.figure(figsize=(15, 10))\n",
    "\n",
    "# Subplot 1: Success rates by method and model\n",
    "plt.subplot(2, 2, 1)\n",
    "pivot_structured.plot(kind='bar', ax=plt.gca())\n",
    "plt.title('Structured Output Success Rate by Method and Model')\n",
    "plt.ylabel('Success Rate (%)')\n",
    "plt.xlabel('Model')\n",
    "plt.legend(title='Method')\n",
    "plt.xticks(rotation=45)\n",
    "\n",
    "# Subplot 2: Average response times\n",
    "plt.subplot(2, 2, 2)\n",
    "duration_pivot = results_df.pivot_table(\n",
    "    values='duration', \n",
    "    index='model', \n",
    "    columns='method', \n",
    "    aggfunc='mean'\n",
    ")\n",
    "duration_pivot.plot(kind='bar', ax=plt.gca())\n",
    "plt.title('Average Response Time by Method and Model')\n",
    "plt.ylabel('Response Time (seconds)')\n",
    "plt.xlabel('Model')\n",
    "plt.legend(title='Method')\n",
    "plt.xticks(rotation=45)\n",
    "\n",
    "# Subplot 3: Overall method comparison\n",
    "plt.subplot(2, 2, 3)\n",
    "method_summary = results_df.groupby('method')['is_structured'].mean() * 100\n",
    "method_summary.plot(kind='bar', ax=plt.gca(), color=['skyblue', 'lightgreen', 'orange'])\n",
    "plt.title('Overall Structured Output Success Rate by Method')\n",
    "plt.ylabel('Success Rate (%)')\n",
    "plt.xlabel('Method')\n",
    "plt.xticks(rotation=45)\n",
    "\n",
    "# Subplot 4: Model comparison across all methods\n",
    "plt.subplot(2, 2, 4)\n",
    "model_summary = results_df.groupby('model')['is_structured'].mean() * 100\n",
    "model_summary.plot(kind='bar', ax=plt.gca(), color=['coral', 'lightblue', 'lightgray'])\n",
    "plt.title('Overall Structured Output Success Rate by Model')\n",
    "plt.ylabel('Success Rate (%)')\n",
    "plt.xlabel('Model')\n",
    "plt.xticks(rotation=45)\n",
    "\n",
    "plt.tight_layout()\n",
    "plt.show()"
   ]
  },
  {
   "cell_type": "markdown",
   "metadata": {},
   "source": [
    "## Check Sample Outputs from Each Method"
   ]
  },
  {
   "cell_type": "code",
   "execution_count": 77,
   "metadata": {},
   "outputs": [
    {
     "name": "stdout",
     "output_type": "stream",
     "text": [
      "\n",
      "============================================================\n",
      "Sample Output from Output Schema Method\n",
      "============================================================\n",
      "Model: Pro\n",
      "Success: True\n",
      "Duration: 0.91s\n",
      "Structured Output:\n",
      "{\n",
      "  \"questionText\": \"What is the name of your healthcare practice?\",\n",
      "  \"questionType\": \"text\",\n",
      "  \"friendlyResponse\": \"Thank you for sharing the name of your healthcare practice! We appreciate your input.\",\n",
      "  \"nextQuestionId\": null\n",
      "}\n",
      "\n",
      "============================================================\n",
      "Sample Output from Prefilling Method\n",
      "============================================================\n",
      "Model: Pro\n",
      "Success: True\n",
      "Duration: 0.75s\n",
      "Structured Output:\n",
      "{\n",
      "  \"questionText\": \"What is the name of your healthcare practice?\",\n",
      "  \"questionType\": \"text\",\n",
      "  \"friendlyResponse\": \"Thank you for sharing the name of your healthcare practice! We appreciate your input.\",\n",
      "  \"nextQuestionId\": \"2\"\n",
      "}\n",
      "\n",
      "============================================================\n",
      "Sample Output from Tool Use Method\n",
      "============================================================\n",
      "Model: Pro\n",
      "Success: True\n",
      "Duration: 1.75s\n",
      "Structured Output:\n",
      "{\n",
      "  \"friendlyResponse\": \"Thank you for sharing the name of your healthcare practice!\",\n",
      "  \"questionType\": \"text\",\n",
      "  \"nextQuestionId\": \"healthcare_practice_name\",\n",
      "  \"questionText\": \"What is the name of your healthcare practice?\"\n",
      "}\n"
     ]
    }
   ],
   "source": [
    "# Show sample successful outputs from each method\n",
    "for method_name in test_methods.keys():\n",
    "    print(f\"\\n{'='*60}\")\n",
    "    print(f\"Sample Output from {method_name} Method\")\n",
    "    print(f\"{'='*60}\")\n",
    "    \n",
    "    # Find first successful structured response for this method\n",
    "    successful_responses = [r for r in results if r[\"method\"] == method_name and r[\"is_structured\"]]\n",
    "    \n",
    "    if successful_responses:\n",
    "        sample = successful_responses[0]\n",
    "        print(f\"Model: {sample['model']}\")\n",
    "        print(f\"Success: {sample['success']}\")\n",
    "        print(f\"Duration: {sample['response']['duration']:.2f}s\")\n",
    "        \n",
    "        if method_name == \"Tool Use\":\n",
    "            if sample['response']['tool_call']:\n",
    "                print(\"Structured Output:\")\n",
    "                print(json.dumps(sample['response']['tool_call']['input'], indent=2))\n",
    "        else:\n",
    "            if sample['response']['json_output']:\n",
    "                print(\"Structured Output:\")\n",
    "                print(json.dumps(sample['response']['json_output'], indent=2))\n",
    "    else:\n",
    "        print(f\"No successful structured outputs found for {method_name} method\")"
   ]
  }
 ],
 "metadata": {
  "kernelspec": {
   "display_name": "Python 3",
   "language": "python",
   "name": "python3"
  },
  "language_info": {
   "codemirror_mode": {
    "name": "ipython",
    "version": 3
   },
   "file_extension": ".py",
   "mimetype": "text/x-python",
   "name": "python",
   "nbconvert_exporter": "python",
   "pygments_lexer": "ipython3",
   "version": "3.9.6"
  }
 },
 "nbformat": 4,
 "nbformat_minor": 4
}
